{
  "nbformat": 4,
  "nbformat_minor": 0,
  "metadata": {
    "colab": {
      "provenance": []
    },
    "kernelspec": {
      "name": "python3",
      "display_name": "Python 3"
    },
    "language_info": {
      "name": "python"
    }
  },
  "cells": [
    {
      "cell_type": "code",
      "execution_count": null,
      "metadata": {
        "id": "k2ktABcDtQU2"
      },
      "outputs": [],
      "source": []
    },
    {
      "cell_type": "code",
      "source": [
        "from google.colab import drive\n",
        "drive.mount('/content/drive')"
      ],
      "metadata": {
        "colab": {
          "base_uri": "https://localhost:8080/"
        },
        "id": "Imu6-x6L2yhj",
        "outputId": "96139d11-92fa-4f11-d646-838dd917f87a"
      },
      "execution_count": 1,
      "outputs": [
        {
          "output_type": "stream",
          "name": "stdout",
          "text": [
            "Mounted at /content/drive\n"
          ]
        }
      ]
    },
    {
      "cell_type": "code",
      "source": [
        "import cv2\n",
        "import numpy as np\n",
        "import matplotlib.pyplot as plt\n",
        "import os,glob\n",
        "from os import listdir,makedirs\n",
        "from os.path import isfile,join\n",
        "from tqdm import tqdm\n",
        "import random\n",
        "from sklearn.model_selection import KFold\n",
        "import statistics as st\n",
        "\n",
        "\n",
        "test_dir = '/content/drive/MyDrive/CVPR/test'\n",
        "catagories = []\n",
        "for c in os.listdir(test_dir):\n",
        "    catagories.append(c)\n",
        "print(catagories)"
      ],
      "metadata": {
        "colab": {
          "base_uri": "https://localhost:8080/"
        },
        "id": "6Hs8fbuf5zQr",
        "outputId": "b0992dc8-d07a-48ce-c205-d063ef1a4ddc"
      },
      "execution_count": 5,
      "outputs": [
        {
          "output_type": "stream",
          "name": "stdout",
          "text": [
            "['horse', 'airplane', 'deer', 'cat', 'automobile', 'ship', 'bird', 'truck', 'dog', 'frog']\n"
          ]
        }
      ]
    },
    {
      "cell_type": "code",
      "source": [
        "from numpy.ma import test\n",
        "test_data = []\n",
        "for c in catagories:\n",
        "    path = os.path.join(test_dir, c)\n",
        "    label = catagories.index(c)\n",
        "    for img in tqdm(os.listdir(path)):\n",
        "        img_path = os.path.join(path, img)\n",
        "        img_arr = cv2.imread(img_path,cv2.IMREAD_GRAYSCALE)\n",
        "        img_arr = cv2.resize(img_arr, (32, 32))\n",
        "        test_data.append([img_arr, label])\n",
        "\n",
        "print(f\"Total Test Data: {len(test_data)}\")"
      ],
      "metadata": {
        "colab": {
          "base_uri": "https://localhost:8080/"
        },
        "id": "o7-te-Bb6TQ7",
        "outputId": "98f57bc5-d327-429c-ddab-73cabe4daed9"
      },
      "execution_count": 9,
      "outputs": [
        {
          "output_type": "stream",
          "name": "stderr",
          "text": [
            "100%|██████████| 1000/1000 [00:02<00:00, 432.17it/s]\n",
            "100%|██████████| 1001/1001 [00:21<00:00, 46.53it/s]\n",
            "100%|██████████| 1000/1000 [00:02<00:00, 392.91it/s]\n",
            "100%|██████████| 1000/1000 [00:02<00:00, 436.42it/s]\n",
            "100%|██████████| 1000/1000 [00:08<00:00, 119.03it/s]\n",
            "100%|██████████| 1000/1000 [00:02<00:00, 421.55it/s]\n",
            "100%|██████████| 1000/1000 [00:02<00:00, 417.35it/s]\n",
            "100%|██████████| 1010/1010 [00:02<00:00, 434.07it/s]\n",
            "100%|██████████| 1000/1000 [00:02<00:00, 374.81it/s]\n",
            "100%|██████████| 1000/1000 [00:02<00:00, 363.76it/s]"
          ]
        },
        {
          "output_type": "stream",
          "name": "stdout",
          "text": [
            "Total Test Data: 10011\n"
          ]
        },
        {
          "output_type": "stream",
          "name": "stderr",
          "text": [
            "\n"
          ]
        }
      ]
    },
    {
      "cell_type": "code",
      "source": [
        "random.shuffle(test_data)\n",
        "\n",
        "KFactor = [0.25, 0.5, 1, 2, 4]\n",
        "kf = KFold(n_splits=5, random_state=None, shuffle=False)\n",
        "for i,(train_index, test_index) in enumerate(kf.split(test_data)):\n",
        "    k_values = np.multiply(np.sqrt(train_index.size),KFactor)\n",
        "    # k_values = np.arange(1,np.sqrt(train_index.size)*10,40)\n",
        "    k_values = [int(x) for x in k_values]\n",
        "    break"
      ],
      "metadata": {
        "id": "THyW5tf_CL2c"
      },
      "execution_count": 10,
      "outputs": []
    },
    {
      "cell_type": "code",
      "source": [
        "accuracy = np.zeros((2,len(k_values),kf.n_splits), dtype=int)\n",
        "\n",
        "res = []\n",
        "for i,(train_index, test_index) in enumerate(kf.split(test_data)):\n",
        "    for x in tqdm(test_index):\n",
        "        r = []\n",
        "        testData = test_data[x][0]\n",
        "        l1 = []\n",
        "        l2 = []\n",
        "        for y in train_index:\n",
        "            trainData = test_data[y][0]\n",
        "            d = np.sum(abs(testData-trainData))\n",
        "            l1.append(d)\n",
        "            d = np.sqrt(np.sum((testData-trainData)**2))\n",
        "            l2.append(d)\n",
        "        l1_i = np.argsort(l1)\n",
        "        l2_i = np.argsort(l2)\n",
        "        for k in k_values:\n",
        "            comp = []\n",
        "            for j in l1_i[:k]:\n",
        "                comp.append(test_data[j][1])\n",
        "            if st.mode(comp) == test_data[x][1]:\n",
        "                accuracy[0][k_values.index(k)][i] += 1\n",
        "            comp = []\n",
        "            for j in l2_i[:k]:\n",
        "                comp.append(test_data[j][1])\n",
        "            if st.mode(comp) == test_data[x][1]:\n",
        "                accuracy[1][k_values.index(k)][i] += 1"
      ],
      "metadata": {
        "colab": {
          "base_uri": "https://localhost:8080/"
        },
        "id": "iX3PTK6zChQX",
        "outputId": "4a9d9531-4672-4e38-c63c-1bf53c520a5b"
      },
      "execution_count": 11,
      "outputs": [
        {
          "output_type": "stream",
          "name": "stderr",
          "text": [
            "100%|██████████| 2003/2003 [05:42<00:00,  5.85it/s]\n",
            "100%|██████████| 2002/2002 [05:48<00:00,  5.74it/s]\n",
            "100%|██████████| 2002/2002 [05:52<00:00,  5.67it/s]\n",
            "100%|██████████| 2002/2002 [05:50<00:00,  5.71it/s]\n",
            "100%|██████████| 2002/2002 [05:55<00:00,  5.62it/s]\n"
          ]
        }
      ]
    },
    {
      "cell_type": "code",
      "source": [
        "L1_acc = [[],[]]\n",
        "L2_acc = [[],[]]\n",
        "print(accuracy)\n",
        "for a in accuracy[0]:\n",
        "    L1_acc[0].append(a.mean()*100/2000)\n",
        "    L1_acc[1].append(a.std()*100/2000)\n",
        "for a in accuracy[1]:\n",
        "    L2_acc[0].append(a.mean()*100/2000)\n",
        "    L2_acc[1].append(a.std()*100/2000)"
      ],
      "metadata": {
        "colab": {
          "base_uri": "https://localhost:8080/"
        },
        "id": "y0e2T6paLEBu",
        "outputId": "8d1599d7-79f2-4d91-bff3-e423efda319e"
      },
      "execution_count": 12,
      "outputs": [
        {
          "output_type": "stream",
          "name": "stdout",
          "text": [
            "[[[216 315 421 451 472]\n",
            "  [220 338 424 443 471]\n",
            "  [213 346 442 437 458]\n",
            "  [205 340 393 411 450]\n",
            "  [236 343 370 406 413]]\n",
            "\n",
            " [[186 265 273 303 318]\n",
            "  [195 268 322 296 315]\n",
            "  [207 248 310 306 320]\n",
            "  [211 275 294 304 321]\n",
            "  [207 288 288 298 331]]]\n"
          ]
        }
      ]
    },
    {
      "cell_type": "code",
      "source": [
        "plt.figure(figsize=(10, 6))\n",
        "plt.errorbar(k_values, L1_acc[0], L1_acc[1])\n",
        "plt.errorbar(k_values, L2_acc[0], L2_acc[1])\n",
        "plt.legend(['Manhattan (L1)','Euclidean (L2)'])\n",
        "plt.xlabel('K (Number of Neighbors)')\n",
        "plt.ylabel('Cross-Validation Accuracy')\n",
        "plt.title('K-NN Classifier Accuracy for Different K Values')\n",
        "plt.xticks(k_values)\n",
        "plt.legend()\n",
        "plt.show()"
      ],
      "metadata": {
        "colab": {
          "base_uri": "https://localhost:8080/",
          "height": 601
        },
        "id": "VTsbLj2vLnh1",
        "outputId": "cb2bed37-7f1a-4d5a-ce08-51b3c04a9e32"
      },
      "execution_count": 13,
      "outputs": [
        {
          "output_type": "stream",
          "name": "stderr",
          "text": [
            "WARNING:matplotlib.legend:No artists with labels found to put in legend.  Note that artists whose label start with an underscore are ignored when legend() is called with no argument.\n"
          ]
        },
        {
          "output_type": "display_data",
          "data": {
            "text/plain": [
              "<Figure size 1000x600 with 1 Axes>"
            ],
            "image/png": "[encoded data removed]"
          },
          "metadata": {}
        }
      ]
    },
    {
      "cell_type": "markdown",
      "source": [
        "Discussion:\n",
        "\n",
        "Manhattan distance (L1 norm) measures how far apart two points are in a space with multiple dimensions, like in images. It's great for grayscale images because it captures the changes in pixel intensities, which help identify objects in the images. Euclidean distance (L2 norm), on the other hand, calculates the shortest distance between two points, considering both the size and direction of differences between them. This is useful when there are patterns or arrangements in the data.\n",
        "\n",
        "Grayscale images have pixels with consistent values, making Manhattan distance a good choice. It works well when features have different scales. For images, where pixel values have a uniform scale, Manhattan distance is ideal.\n",
        "\n",
        "To decide between Manhattan and Euclidean distance, think about the dataset's characteristics, the features, and how complicated the classes are. Both distances show similar patterns and can work well. The choice depends on the specific details of the data you're working with."
      ],
      "metadata": {
        "id": "RoC2TeioWX2h"
      }
    }
  ]
}